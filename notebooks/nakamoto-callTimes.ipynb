{
 "cells": [
  {
   "cell_type": "markdown",
   "metadata": {},
   "source": [
    "### Really basic examples of getting some statistics from our dataset. Outliers are already observable."
   ]
  },
  {
   "cell_type": "code",
   "execution_count": null,
   "metadata": {
    "collapsed": false,
    "scrolled": true
   },
   "outputs": [],
   "source": [
    "%matplotlib inline\n",
    "\n",
    "import pandas as pd\n",
    "import numpy as np\n",
    "import xlrd"
   ]
  },
  {
   "cell_type": "code",
   "execution_count": null,
   "metadata": {
    "collapsed": false,
    "scrolled": true
   },
   "outputs": [],
   "source": [
    "df = pd.read_csv('../data/PhoneNumberTransactionsSeptember.csv', sep='\\t')"
   ]
  },
  {
   "cell_type": "markdown",
   "metadata": {},
   "source": [
    "## Create Date & Time Column"
   ]
  },
  {
   "cell_type": "code",
   "execution_count": null,
   "metadata": {
    "collapsed": false
   },
   "outputs": [],
   "source": [
    "def CreateTimeColumn(row):\n",
    "    dateTime = row.split(' ')\n",
    "    return dateTime[1] + dateTime[2]\n",
    "\n",
    "def CreateDateColumn(row):\n",
    "    dateTime = row.split(' ')\n",
    "    return dateTime[0]\n",
    "\n",
    "#Split Date/Time into separate columns\n",
    "df['Date'] = df['TransactionTime'].apply(lambda row: CreateDateColumn(row))\n",
    "df['Time'] = df['TransactionTime'].apply(lambda row: CreateTimeColumn(row))"
   ]
  },
  {
   "cell_type": "markdown",
   "metadata": {},
   "source": [
    "### # Of calls simultaneously"
   ]
  },
  {
   "cell_type": "code",
   "execution_count": null,
   "metadata": {
    "collapsed": true
   },
   "outputs": [],
   "source": [
    "def GetMax(series, row):\n",
    "    return series[row].max()"
   ]
  },
  {
   "cell_type": "code",
   "execution_count": null,
   "metadata": {
    "collapsed": true
   },
   "outputs": [],
   "source": [
    "def GetMaxSimultaneousCalls(featureSet, dataSet):\n",
    "    dataSubset = dataSet[['HashedExternaLPhoneNumber', 'TransactionTime']]\n",
    "    simultaneousCallCount = dataSubset.groupby(['HashedExternaLPhoneNumber', 'TransactionTime']).size()\n",
    "    #Get maximum calls made at the simultaneously\n",
    "    featureSet['MaxSimultaneousCalls'] = featureSet['HashedExternaLPhoneNumber'].apply(lambda row: GetMax(simultaneousCallCount, row))\n",
    "    "
   ]
  },
  {
   "cell_type": "markdown",
   "metadata": {
    "collapsed": false
   },
   "source": [
    "## Number of calls at the same time of day"
   ]
  },
  {
   "cell_type": "code",
   "execution_count": null,
   "metadata": {
    "collapsed": false
   },
   "outputs": [],
   "source": [
    "def GetMaxConsistentCalls(featureSet, dataFrame):\n",
    "    dataSubset = dataFrame[['HashedExternaLPhoneNumber', 'Time']] \n",
    "    consistentCallCount = dataSubset.groupby(['HashedExternaLPhoneNumber', 'Time']).size()\n",
    "    #Get maximum calls made at the same time throughout september for each number\n",
    "    featureSet['MaxConsistentCalls'] = featureSet['HashedExternaLPhoneNumber'].apply(lambda row: GetMax(consistentCallCount, row))\n",
    "    "
   ]
  },
  {
   "cell_type": "code",
   "execution_count": null,
   "metadata": {
    "collapsed": false
   },
   "outputs": [],
   "source": [
    "#Create subset and feature dataframe\n",
    "dfSmall = df.head(1000000)\n",
    "features = pd.DataFrame(dfSmall['HashedExternaLPhoneNumber'].unique())\n",
    "features.columns = ['HashedExternaLPhoneNumber']"
   ]
  },
  {
   "cell_type": "code",
   "execution_count": null,
   "metadata": {
    "collapsed": false,
    "scrolled": true
   },
   "outputs": [],
   "source": [
    "GetMaxConsistentCalls(features, dfSmall)"
   ]
  },
  {
   "cell_type": "code",
   "execution_count": null,
   "metadata": {
    "collapsed": false
   },
   "outputs": [],
   "source": [
    "GetMaxSimultaneousCalls(features, dfSmall)"
   ]
  },
  {
   "cell_type": "code",
   "execution_count": null,
   "metadata": {
    "collapsed": false
   },
   "outputs": [],
   "source": [
    "#View feature in descending order\n",
    "features.sort_values(by='MaxSimultaneousCalls', ascending=[False])"
   ]
  },
  {
   "cell_type": "code",
   "execution_count": null,
   "metadata": {
    "collapsed": false
   },
   "outputs": [],
   "source": []
  },
  {
   "cell_type": "code",
   "execution_count": null,
   "metadata": {
    "collapsed": true
   },
   "outputs": [],
   "source": []
  }
 ],
 "metadata": {
  "kernelspec": {
   "display_name": "Python 2",
   "language": "python",
   "name": "python2"
  },
  "language_info": {
   "codemirror_mode": {
    "name": "ipython",
    "version": 2
   },
   "file_extension": ".py",
   "mimetype": "text/x-python",
   "name": "python",
   "nbconvert_exporter": "python",
   "pygments_lexer": "ipython2",
   "version": "2.7.10"
  }
 },
 "nbformat": 4,
 "nbformat_minor": 0
}
