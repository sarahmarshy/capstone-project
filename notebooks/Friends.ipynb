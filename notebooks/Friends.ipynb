{
 "cells": [
  {
   "cell_type": "code",
   "execution_count": 2,
   "metadata": {
    "collapsed": true
   },
   "outputs": [],
   "source": [
    "import pandas as pd"
   ]
  },
  {
   "cell_type": "code",
   "execution_count": 3,
   "metadata": {
    "collapsed": false
   },
   "outputs": [],
   "source": [
    "df = pd.read_csv('../../data/PhoneNumberTransactionsSeptember.txt', sep='\\t')"
   ]
  },
  {
   "cell_type": "code",
   "execution_count": null,
   "metadata": {
    "collapsed": true
   },
   "outputs": [],
   "source": [
    "df2 = df.query('HashedUserPhoneNumber in HashedExternaLPhoneNumber')"
   ]
  },
  {
   "cell_type": "markdown",
   "metadata": {},
   "source": [
    "Get a subset of the DataFrame that contains users who are also listed as external numbers."
   ]
  },
  {
   "cell_type": "code",
   "execution_count": null,
   "metadata": {
    "collapsed": false
   },
   "outputs": [],
   "source": [
    "caller_groups = df2.groupby('HashedExternaLPhoneNumber')\n",
    "for caller,called in caller_groups: # Get all the numbers called by 1 external number, caller\n",
    "    for user in set(called['HashedUserPhoneNumber'].tolist()): # Make the called numbers into a list, iterate over it\n",
    "        # Check if the user has called the caller at some time\n",
    "        if user in caller_groups.groups and caller in caller_groups.get_group(user)['HashedUserPhoneNumber'].tolist():\n",
    "            # Get the indexes of these calls\n",
    "            indexes = called.loc[called['HashedUserPhoneNumber'] == user].index.tolist()\n",
    "            # Set the \"Friend\" column to indicate that these two numbers have called each other\n",
    "            df.loc[indexes,'Friend']=1"
   ]
  },
  {
   "cell_type": "code",
   "execution_count": null,
   "metadata": {
    "collapsed": true
   },
   "outputs": [],
   "source": [
    "df.loc[df[\"Friend\"]==1]"
   ]
  }
 ],
 "metadata": {
  "kernelspec": {
   "display_name": "Python 2",
   "language": "python",
   "name": "python2"
  },
  "language_info": {
   "codemirror_mode": {
    "name": "ipython",
    "version": 2
   },
   "file_extension": ".py",
   "mimetype": "text/x-python",
   "name": "python",
   "nbconvert_exporter": "python",
   "pygments_lexer": "ipython2",
   "version": "2.7.11"
  }
 },
 "nbformat": 4,
 "nbformat_minor": 0
}
